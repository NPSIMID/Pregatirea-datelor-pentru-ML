{
 "cells": [
  {
   "cell_type": "markdown",
   "id": "3d56012b",
   "metadata": {},
   "source": [
    "# Content\n",
    "## 0. Importul bibliotecilor\n",
    "## 1. Importul datelor\n",
    "## 2. Completarea sau excluderea datelor lipsa (data imputation)\n",
    "## 3. Divizarea datelor in date feature si date labels (X si y)\n",
    "## 4. Conversia valorilor non-numetice in numerice (feature encoding)\n",
    "## 5. Implementarea modelului si realizarea predictiei\n"
   ]
  },
  {
   "cell_type": "markdown",
   "id": "0c45af8b",
   "metadata": {},
   "source": [
    "# 0. Importul bibliotecilor"
   ]
  },
  {
   "cell_type": "code",
   "execution_count": 1,
   "id": "f2ebd737",
   "metadata": {},
   "outputs": [],
   "source": [
    "import pandas as pd\n",
    "import numpy as np\n",
    "import matplotlib.pyplot as plt\n",
    "import seaborn as sns\n",
    "%matplotlib inline"
   ]
  },
  {
   "cell_type": "markdown",
   "id": "f7b403b0",
   "metadata": {},
   "source": [
    "# 1. Importul datelor"
   ]
  },
  {
   "cell_type": "code",
   "execution_count": 2,
   "id": "1c811c35",
   "metadata": {},
   "outputs": [],
   "source": [
    "# importul datelor\n",
    "cars=pd.read_csv('car-sales-data.csv')"
   ]
  },
  {
   "cell_type": "code",
   "execution_count": 3,
   "id": "b09c83b9",
   "metadata": {},
   "outputs": [
    {
     "data": {
      "text/html": [
       "<div>\n",
       "<style scoped>\n",
       "    .dataframe tbody tr th:only-of-type {\n",
       "        vertical-align: middle;\n",
       "    }\n",
       "\n",
       "    .dataframe tbody tr th {\n",
       "        vertical-align: top;\n",
       "    }\n",
       "\n",
       "    .dataframe thead th {\n",
       "        text-align: right;\n",
       "    }\n",
       "</style>\n",
       "<table border=\"1\" class=\"dataframe\">\n",
       "  <thead>\n",
       "    <tr style=\"text-align: right;\">\n",
       "      <th></th>\n",
       "      <th>Make</th>\n",
       "      <th>Colour</th>\n",
       "      <th>Odometer (KM)</th>\n",
       "      <th>Doors</th>\n",
       "      <th>Price</th>\n",
       "    </tr>\n",
       "  </thead>\n",
       "  <tbody>\n",
       "    <tr>\n",
       "      <th>0</th>\n",
       "      <td>Honda</td>\n",
       "      <td>White</td>\n",
       "      <td>35431.0</td>\n",
       "      <td>4.0</td>\n",
       "      <td>15323.0</td>\n",
       "    </tr>\n",
       "    <tr>\n",
       "      <th>1</th>\n",
       "      <td>BMW</td>\n",
       "      <td>Blue</td>\n",
       "      <td>192714.0</td>\n",
       "      <td>5.0</td>\n",
       "      <td>19943.0</td>\n",
       "    </tr>\n",
       "    <tr>\n",
       "      <th>2</th>\n",
       "      <td>Honda</td>\n",
       "      <td>White</td>\n",
       "      <td>84714.0</td>\n",
       "      <td>4.0</td>\n",
       "      <td>28343.0</td>\n",
       "    </tr>\n",
       "    <tr>\n",
       "      <th>3</th>\n",
       "      <td>Toyota</td>\n",
       "      <td>White</td>\n",
       "      <td>154365.0</td>\n",
       "      <td>4.0</td>\n",
       "      <td>13434.0</td>\n",
       "    </tr>\n",
       "    <tr>\n",
       "      <th>4</th>\n",
       "      <td>Nissan</td>\n",
       "      <td>Blue</td>\n",
       "      <td>181577.0</td>\n",
       "      <td>3.0</td>\n",
       "      <td>14043.0</td>\n",
       "    </tr>\n",
       "    <tr>\n",
       "      <th>5</th>\n",
       "      <td>Honda</td>\n",
       "      <td>Red</td>\n",
       "      <td>42652.0</td>\n",
       "      <td>4.0</td>\n",
       "      <td>23883.0</td>\n",
       "    </tr>\n",
       "    <tr>\n",
       "      <th>6</th>\n",
       "      <td>Toyota</td>\n",
       "      <td>Blue</td>\n",
       "      <td>163453.0</td>\n",
       "      <td>4.0</td>\n",
       "      <td>8473.0</td>\n",
       "    </tr>\n",
       "    <tr>\n",
       "      <th>7</th>\n",
       "      <td>Honda</td>\n",
       "      <td>White</td>\n",
       "      <td>NaN</td>\n",
       "      <td>4.0</td>\n",
       "      <td>20306.0</td>\n",
       "    </tr>\n",
       "    <tr>\n",
       "      <th>8</th>\n",
       "      <td>NaN</td>\n",
       "      <td>White</td>\n",
       "      <td>130538.0</td>\n",
       "      <td>4.0</td>\n",
       "      <td>9374.0</td>\n",
       "    </tr>\n",
       "    <tr>\n",
       "      <th>9</th>\n",
       "      <td>Honda</td>\n",
       "      <td>Blue</td>\n",
       "      <td>51029.0</td>\n",
       "      <td>4.0</td>\n",
       "      <td>26683.0</td>\n",
       "    </tr>\n",
       "  </tbody>\n",
       "</table>\n",
       "</div>"
      ],
      "text/plain": [
       "     Make Colour  Odometer (KM)  Doors    Price\n",
       "0   Honda  White        35431.0    4.0  15323.0\n",
       "1     BMW   Blue       192714.0    5.0  19943.0\n",
       "2   Honda  White        84714.0    4.0  28343.0\n",
       "3  Toyota  White       154365.0    4.0  13434.0\n",
       "4  Nissan   Blue       181577.0    3.0  14043.0\n",
       "5   Honda    Red        42652.0    4.0  23883.0\n",
       "6  Toyota   Blue       163453.0    4.0   8473.0\n",
       "7   Honda  White            NaN    4.0  20306.0\n",
       "8     NaN  White       130538.0    4.0   9374.0\n",
       "9   Honda   Blue        51029.0    4.0  26683.0"
      ]
     },
     "execution_count": 3,
     "metadata": {},
     "output_type": "execute_result"
    }
   ],
   "source": [
    "cars.head(10)"
   ]
  },
  {
   "cell_type": "code",
   "execution_count": 4,
   "id": "1eb7a839",
   "metadata": {},
   "outputs": [
    {
     "data": {
      "text/plain": [
       "(1000, 5)"
      ]
     },
     "execution_count": 4,
     "metadata": {},
     "output_type": "execute_result"
    }
   ],
   "source": [
    "# Verificare dimensiunii datelor\n",
    "cars.shape"
   ]
  },
  {
   "cell_type": "markdown",
   "id": "a71a2136",
   "metadata": {},
   "source": [
    "# 2. Completarea sau excluderea datelor lipsa"
   ]
  },
  {
   "cell_type": "code",
   "execution_count": 5,
   "id": "a08b7f16",
   "metadata": {},
   "outputs": [
    {
     "data": {
      "text/plain": [
       "Make             49\n",
       "Colour           50\n",
       "Odometer (KM)    50\n",
       "Doors            50\n",
       "Price            50\n",
       "dtype: int64"
      ]
     },
     "execution_count": 5,
     "metadata": {},
     "output_type": "execute_result"
    }
   ],
   "source": [
    "# Verificare datelor lipsa in fiecare coloana\n",
    "cars.isna().sum()"
   ]
  },
  {
   "cell_type": "code",
   "execution_count": 6,
   "id": "a9180c1b",
   "metadata": {},
   "outputs": [
    {
     "data": {
      "text/plain": [
       "Make              object\n",
       "Colour            object\n",
       "Odometer (KM)    float64\n",
       "Doors            float64\n",
       "Price            float64\n",
       "dtype: object"
      ]
     },
     "execution_count": 6,
     "metadata": {},
     "output_type": "execute_result"
    }
   ],
   "source": [
    "# Verificare tipurilor de date in fiecare coloana\n",
    "cars.dtypes"
   ]
  },
  {
   "cell_type": "markdown",
   "id": "363bddeb",
   "metadata": {},
   "source": [
    "## 2.1 Completarea datelor lipsa utilizand Pandas"
   ]
  },
  {
   "cell_type": "code",
   "execution_count": 7,
   "id": "dbb6039a",
   "metadata": {},
   "outputs": [],
   "source": [
    "# Completarea valorilor lipsa in coloana \"Make\" cu valoarea \"missing\"\n",
    "cars['Make'].fillna('missing', inplace=True)"
   ]
  },
  {
   "cell_type": "code",
   "execution_count": 8,
   "id": "ee31a77f",
   "metadata": {},
   "outputs": [],
   "source": [
    "# Completarea valorilor lipsa in coloana \"Colour\" cu valoarea \"missing\"\n",
    "cars['Colour'].fillna('missing', inplace=True)"
   ]
  },
  {
   "cell_type": "code",
   "execution_count": 9,
   "id": "b800a520",
   "metadata": {},
   "outputs": [],
   "source": [
    "# Completarea valorilor lipsa in coloana \"Odometer (KM)\" cu valoarea medie\n",
    "cars['Odometer (KM)'].fillna(cars[\"Odometer (KM)\"].mean(), inplace=True)"
   ]
  },
  {
   "cell_type": "code",
   "execution_count": 10,
   "id": "6e822a65",
   "metadata": {},
   "outputs": [
    {
     "data": {
      "text/plain": [
       "4.0"
      ]
     },
     "execution_count": 10,
     "metadata": {},
     "output_type": "execute_result"
    }
   ],
   "source": [
    "# verificarea valorii median a coloanei \"Doors\"\n",
    "cars['Doors'].median()"
   ]
  },
  {
   "cell_type": "code",
   "execution_count": 11,
   "id": "86ac458f",
   "metadata": {},
   "outputs": [],
   "source": [
    "# Completarea valorilor lipsa in coloana \"Doors\" cu valoarea median (4)\n",
    "cars['Doors'].fillna(4, inplace=True)"
   ]
  },
  {
   "cell_type": "code",
   "execution_count": 12,
   "id": "13af51e4",
   "metadata": {},
   "outputs": [
    {
     "data": {
      "text/plain": [
       "Make              0\n",
       "Colour            0\n",
       "Odometer (KM)     0\n",
       "Doors             0\n",
       "Price            50\n",
       "dtype: int64"
      ]
     },
     "execution_count": 12,
     "metadata": {},
     "output_type": "execute_result"
    }
   ],
   "source": [
    "# Verificare datelor lipsa \n",
    "cars.isna().sum()"
   ]
  },
  {
   "cell_type": "code",
   "execution_count": 13,
   "id": "ca5f1893",
   "metadata": {},
   "outputs": [],
   "source": [
    "# Excluderea datelor care in coloana Price (coloana label) au lipsa\n",
    "cars.dropna(inplace=True)"
   ]
  },
  {
   "cell_type": "code",
   "execution_count": 14,
   "id": "d7314056",
   "metadata": {},
   "outputs": [
    {
     "data": {
      "text/plain": [
       "Make             0\n",
       "Colour           0\n",
       "Odometer (KM)    0\n",
       "Doors            0\n",
       "Price            0\n",
       "dtype: int64"
      ]
     },
     "execution_count": 14,
     "metadata": {},
     "output_type": "execute_result"
    }
   ],
   "source": [
    "# Verificare datelor lipsa \n",
    "cars.isna().sum()"
   ]
  },
  {
   "cell_type": "code",
   "execution_count": 15,
   "id": "116d6c14",
   "metadata": {},
   "outputs": [
    {
     "data": {
      "text/plain": [
       "(950, 5)"
      ]
     },
     "execution_count": 15,
     "metadata": {},
     "output_type": "execute_result"
    }
   ],
   "source": [
    "# Verificare dimensiunii datelor\n",
    "cars.shape"
   ]
  },
  {
   "cell_type": "markdown",
   "id": "f4b1914c",
   "metadata": {},
   "source": [
    "## 2.2 Completarea datelor lipsa utilizand Scikit-Learn (imputation)\n",
    "\n",
    "*necesita divizarea datelor"
   ]
  },
  {
   "cell_type": "code",
   "execution_count": 16,
   "id": "b5934351",
   "metadata": {},
   "outputs": [],
   "source": [
    "# Reimportul datelor pentru a avea date lipsa\n",
    "cars=pd.read_csv('car-sales-data.csv')"
   ]
  },
  {
   "cell_type": "code",
   "execution_count": 17,
   "id": "182d1f6e",
   "metadata": {},
   "outputs": [
    {
     "data": {
      "text/plain": [
       "Make             49\n",
       "Colour           50\n",
       "Odometer (KM)    50\n",
       "Doors            50\n",
       "Price            50\n",
       "dtype: int64"
      ]
     },
     "execution_count": 17,
     "metadata": {},
     "output_type": "execute_result"
    }
   ],
   "source": [
    "# Verificare datelor lipsa in fiecare coloana\n",
    "cars.isna().sum()"
   ]
  },
  {
   "cell_type": "code",
   "execution_count": 18,
   "id": "9ebba40a",
   "metadata": {},
   "outputs": [],
   "source": [
    "# Excluderea datelor care in coloana Price (coloana label) au lipsa\n",
    "cars.dropna(subset=['Price'], inplace=True)"
   ]
  },
  {
   "cell_type": "code",
   "execution_count": 19,
   "id": "87c3f1c5",
   "metadata": {},
   "outputs": [
    {
     "data": {
      "text/plain": [
       "Make             47\n",
       "Colour           46\n",
       "Odometer (KM)    48\n",
       "Doors            47\n",
       "Price             0\n",
       "dtype: int64"
      ]
     },
     "execution_count": 19,
     "metadata": {},
     "output_type": "execute_result"
    }
   ],
   "source": [
    "# Verificare datelor lipsa in fiecare coloana\n",
    "cars.isna().sum()"
   ]
  },
  {
   "cell_type": "code",
   "execution_count": 20,
   "id": "8739db47",
   "metadata": {},
   "outputs": [
    {
     "data": {
      "text/plain": [
       "(950, 5)"
      ]
     },
     "execution_count": 20,
     "metadata": {},
     "output_type": "execute_result"
    }
   ],
   "source": [
    "# Verificare dimensiunii datelor\n",
    "cars.shape"
   ]
  },
  {
   "cell_type": "markdown",
   "id": "f0808597",
   "metadata": {},
   "source": [
    "In continuare completarea datelor lipsa in celelalte coloane se va realiza pe fiecare set (training sau test) in parte de a ceea se va trece la subpunctul c) ca mai apoi se va reveni la b2)"
   ]
  },
  {
   "cell_type": "markdown",
   "id": "fb813943",
   "metadata": {},
   "source": [
    "# 3. Divizarea datelor in date feature si date labels (X si y)"
   ]
  },
  {
   "cell_type": "code",
   "execution_count": 21,
   "id": "837a4083",
   "metadata": {},
   "outputs": [],
   "source": [
    "# Divizarea datelor (coloanelor) in date feature X (caracteristici) si\n",
    "# date labels y (rezultat)\n",
    "np.random.seed(9)\n",
    "X = cars.drop('Price', axis=1)\n",
    "y = cars['Price']"
   ]
  },
  {
   "cell_type": "code",
   "execution_count": 22,
   "id": "29b1193a",
   "metadata": {},
   "outputs": [],
   "source": [
    "# Divizarea datelor in setul de training si setul de test\n",
    "np.random.seed(9)\n",
    "from sklearn.model_selection import train_test_split\n",
    "X_train, X_test, y_train, y_test = train_test_split(X, y, test_size=0.2)"
   ]
  },
  {
   "cell_type": "code",
   "execution_count": 23,
   "id": "7346ecb4",
   "metadata": {},
   "outputs": [
    {
     "data": {
      "text/plain": [
       "((760, 4), (190, 4), (760,), (190,))"
      ]
     },
     "execution_count": 23,
     "metadata": {},
     "output_type": "execute_result"
    }
   ],
   "source": [
    "# Vizualizarea dimensiunilor seturilor\n",
    "X_train.shape, X_test.shape, y_train.shape, y_test.shape"
   ]
  },
  {
   "cell_type": "markdown",
   "id": "36623c04",
   "metadata": {},
   "source": [
    "## 2.2 Completarea datelor lipsa utilizand Scikit-Learn (continuare)"
   ]
  },
  {
   "cell_type": "code",
   "execution_count": 24,
   "id": "ee43aea5",
   "metadata": {},
   "outputs": [],
   "source": [
    "# Importul functiilor de completare (imputare) si de transformare\n",
    "from sklearn.impute import SimpleImputer\n",
    "from sklearn.compose import ColumnTransformer"
   ]
  },
  {
   "cell_type": "code",
   "execution_count": 25,
   "id": "9fe54507",
   "metadata": {},
   "outputs": [],
   "source": [
    "# Definirea coloanelor \"Make\" si \"Colour\" de tip categorii\n",
    "cat_features=[\"Make\", \"Colour\"]"
   ]
  },
  {
   "cell_type": "code",
   "execution_count": 26,
   "id": "7a5aa81c",
   "metadata": {},
   "outputs": [],
   "source": [
    "# Definirea coloanei \"Doors\" de tip categorie cu valori numerice\n",
    "door_feature = [\"Doors\"]"
   ]
  },
  {
   "cell_type": "code",
   "execution_count": 27,
   "id": "8620854b",
   "metadata": {},
   "outputs": [],
   "source": [
    "# Definirea coloanei \"Odometer (KM)\" de tip  numeric\n",
    "num_features = [\"Odometer (KM)\"]"
   ]
  },
  {
   "cell_type": "code",
   "execution_count": 28,
   "id": "aecf1cfa",
   "metadata": {},
   "outputs": [],
   "source": [
    "# Elaborarea modelului de completare a datelor lipsa a coloanelor de tip categorii \n",
    "cat_imputer=SimpleImputer(strategy=\"constant\", fill_value=\"missing\")"
   ]
  },
  {
   "cell_type": "code",
   "execution_count": 29,
   "id": "2df95e3e",
   "metadata": {},
   "outputs": [],
   "source": [
    "# Elaborarea modelului de completare a datelor lipsa a coloanei de tip categorie cu valori numerice \n",
    "door_imputer = SimpleImputer(strategy=\"median\")"
   ]
  },
  {
   "cell_type": "code",
   "execution_count": 30,
   "id": "bf67b728",
   "metadata": {},
   "outputs": [],
   "source": [
    "# Elaborarea modelului de completare a datelor lipsa a coloanei de tip numeric   \n",
    "num_imputer = SimpleImputer(strategy=\"mean\")"
   ]
  },
  {
   "cell_type": "code",
   "execution_count": 31,
   "id": "b27e820b",
   "metadata": {},
   "outputs": [],
   "source": [
    "# Crearea unui imputer care v-a realiza completarea datelor lipsa\n",
    "imputer = ColumnTransformer([\n",
    "    (\"cat_imputer\", cat_imputer, cat_features),\n",
    "    (\"door_imputer\", door_imputer, door_feature),\n",
    "    (\"num_imputer\", num_imputer, num_features)\n",
    "])"
   ]
  },
  {
   "cell_type": "code",
   "execution_count": 32,
   "id": "a55a0a34",
   "metadata": {},
   "outputs": [],
   "source": [
    "# Completarea datelor lipsa in setul de training\n",
    "X_train = imputer.fit_transform(X_train)"
   ]
  },
  {
   "cell_type": "code",
   "execution_count": 33,
   "id": "32db1e19",
   "metadata": {},
   "outputs": [],
   "source": [
    "# Completarea datelor lipsa in setul de test\n",
    "X_test = imputer.fit_transform(X_test)"
   ]
  },
  {
   "cell_type": "code",
   "execution_count": 34,
   "id": "b8e3286f",
   "metadata": {},
   "outputs": [
    {
     "data": {
      "text/html": [
       "<div>\n",
       "<style scoped>\n",
       "    .dataframe tbody tr th:only-of-type {\n",
       "        vertical-align: middle;\n",
       "    }\n",
       "\n",
       "    .dataframe tbody tr th {\n",
       "        vertical-align: top;\n",
       "    }\n",
       "\n",
       "    .dataframe thead th {\n",
       "        text-align: right;\n",
       "    }\n",
       "</style>\n",
       "<table border=\"1\" class=\"dataframe\">\n",
       "  <thead>\n",
       "    <tr style=\"text-align: right;\">\n",
       "      <th></th>\n",
       "      <th>Make</th>\n",
       "      <th>Colour</th>\n",
       "      <th>Doors</th>\n",
       "      <th>Odometer (KM)</th>\n",
       "    </tr>\n",
       "  </thead>\n",
       "  <tbody>\n",
       "    <tr>\n",
       "      <th>0</th>\n",
       "      <td>Toyota</td>\n",
       "      <td>Black</td>\n",
       "      <td>4.0</td>\n",
       "      <td>90508.0</td>\n",
       "    </tr>\n",
       "    <tr>\n",
       "      <th>1</th>\n",
       "      <td>Nissan</td>\n",
       "      <td>Black</td>\n",
       "      <td>4.0</td>\n",
       "      <td>240536.0</td>\n",
       "    </tr>\n",
       "    <tr>\n",
       "      <th>2</th>\n",
       "      <td>Toyota</td>\n",
       "      <td>Black</td>\n",
       "      <td>4.0</td>\n",
       "      <td>197498.0</td>\n",
       "    </tr>\n",
       "    <tr>\n",
       "      <th>3</th>\n",
       "      <td>Honda</td>\n",
       "      <td>missing</td>\n",
       "      <td>4.0</td>\n",
       "      <td>178774.0</td>\n",
       "    </tr>\n",
       "    <tr>\n",
       "      <th>4</th>\n",
       "      <td>BMW</td>\n",
       "      <td>Red</td>\n",
       "      <td>5.0</td>\n",
       "      <td>131587.0</td>\n",
       "    </tr>\n",
       "  </tbody>\n",
       "</table>\n",
       "</div>"
      ],
      "text/plain": [
       "     Make   Colour Doors Odometer (KM)\n",
       "0  Toyota    Black   4.0       90508.0\n",
       "1  Nissan    Black   4.0      240536.0\n",
       "2  Toyota    Black   4.0      197498.0\n",
       "3   Honda  missing   4.0      178774.0\n",
       "4     BMW      Red   5.0      131587.0"
      ]
     },
     "execution_count": 34,
     "metadata": {},
     "output_type": "execute_result"
    }
   ],
   "source": [
    "# Vizualizarea datelor de training\n",
    "X_train = pd.DataFrame(X_train, columns = ['Make', 'Colour', 'Doors', 'Odometer (KM)'] )\n",
    "X_train.head()"
   ]
  },
  {
   "cell_type": "code",
   "execution_count": 35,
   "id": "78f0ab12",
   "metadata": {},
   "outputs": [
    {
     "data": {
      "text/html": [
       "<div>\n",
       "<style scoped>\n",
       "    .dataframe tbody tr th:only-of-type {\n",
       "        vertical-align: middle;\n",
       "    }\n",
       "\n",
       "    .dataframe tbody tr th {\n",
       "        vertical-align: top;\n",
       "    }\n",
       "\n",
       "    .dataframe thead th {\n",
       "        text-align: right;\n",
       "    }\n",
       "</style>\n",
       "<table border=\"1\" class=\"dataframe\">\n",
       "  <thead>\n",
       "    <tr style=\"text-align: right;\">\n",
       "      <th></th>\n",
       "      <th>Make</th>\n",
       "      <th>Colour</th>\n",
       "      <th>Doors</th>\n",
       "      <th>Odometer (KM)</th>\n",
       "    </tr>\n",
       "  </thead>\n",
       "  <tbody>\n",
       "    <tr>\n",
       "      <th>0</th>\n",
       "      <td>Honda</td>\n",
       "      <td>White</td>\n",
       "      <td>4.0</td>\n",
       "      <td>195787.0</td>\n",
       "    </tr>\n",
       "    <tr>\n",
       "      <th>1</th>\n",
       "      <td>missing</td>\n",
       "      <td>White</td>\n",
       "      <td>3.0</td>\n",
       "      <td>152006.0</td>\n",
       "    </tr>\n",
       "    <tr>\n",
       "      <th>2</th>\n",
       "      <td>Nissan</td>\n",
       "      <td>Blue</td>\n",
       "      <td>3.0</td>\n",
       "      <td>234146.0</td>\n",
       "    </tr>\n",
       "    <tr>\n",
       "      <th>3</th>\n",
       "      <td>Honda</td>\n",
       "      <td>missing</td>\n",
       "      <td>4.0</td>\n",
       "      <td>136926.361111</td>\n",
       "    </tr>\n",
       "    <tr>\n",
       "      <th>4</th>\n",
       "      <td>Toyota</td>\n",
       "      <td>Green</td>\n",
       "      <td>4.0</td>\n",
       "      <td>172493.0</td>\n",
       "    </tr>\n",
       "  </tbody>\n",
       "</table>\n",
       "</div>"
      ],
      "text/plain": [
       "      Make   Colour Doors  Odometer (KM)\n",
       "0    Honda    White   4.0       195787.0\n",
       "1  missing    White   3.0       152006.0\n",
       "2   Nissan     Blue   3.0       234146.0\n",
       "3    Honda  missing   4.0  136926.361111\n",
       "4   Toyota    Green   4.0       172493.0"
      ]
     },
     "execution_count": 35,
     "metadata": {},
     "output_type": "execute_result"
    }
   ],
   "source": [
    "# Vizualizarea datelor de test\n",
    "X_test = pd.DataFrame(X_test, columns = ['Make', 'Colour', 'Doors', 'Odometer (KM)'])\n",
    "X_test.head()"
   ]
  },
  {
   "cell_type": "code",
   "execution_count": 36,
   "id": "461ab868",
   "metadata": {},
   "outputs": [
    {
     "data": {
      "text/plain": [
       "Make             0\n",
       "Colour           0\n",
       "Doors            0\n",
       "Odometer (KM)    0\n",
       "dtype: int64"
      ]
     },
     "execution_count": 36,
     "metadata": {},
     "output_type": "execute_result"
    }
   ],
   "source": [
    "# Verificare datelor lipsa in fiecare coloana a setului de training\n",
    "X_train.isna().sum()"
   ]
  },
  {
   "cell_type": "code",
   "execution_count": 37,
   "id": "ca2831d9",
   "metadata": {},
   "outputs": [
    {
     "data": {
      "text/plain": [
       "Make             0\n",
       "Colour           0\n",
       "Doors            0\n",
       "Odometer (KM)    0\n",
       "dtype: int64"
      ]
     },
     "execution_count": 37,
     "metadata": {},
     "output_type": "execute_result"
    }
   ],
   "source": [
    "# Verificare datelor lipsa in fiecare coloana a setului de test\n",
    "X_test.isna().sum()"
   ]
  },
  {
   "cell_type": "code",
   "execution_count": 38,
   "id": "44ced243",
   "metadata": {},
   "outputs": [
    {
     "data": {
      "text/plain": [
       "((760, 4), (190, 4), (760,), (190,))"
      ]
     },
     "execution_count": 38,
     "metadata": {},
     "output_type": "execute_result"
    }
   ],
   "source": [
    "# Vizualizarea dimensiunilor seturilor\n",
    "X_train.shape, X_test.shape, y_train.shape, y_test.shape"
   ]
  },
  {
   "cell_type": "markdown",
   "id": "6c526655",
   "metadata": {},
   "source": [
    "# 4.  Conversia valorilor non-numerice in numerice (feature encoding)"
   ]
  },
  {
   "cell_type": "code",
   "execution_count": 39,
   "id": "a9c346d4",
   "metadata": {},
   "outputs": [
    {
     "data": {
      "text/plain": [
       "Make             object\n",
       "Colour           object\n",
       "Doors            object\n",
       "Odometer (KM)    object\n",
       "dtype: object"
      ]
     },
     "execution_count": 39,
     "metadata": {},
     "output_type": "execute_result"
    }
   ],
   "source": [
    "# Verificare tipurilor de date in fiecare coloana a setului de training\n",
    "X_train.dtypes"
   ]
  },
  {
   "cell_type": "code",
   "execution_count": 40,
   "id": "e03fa2ab",
   "metadata": {},
   "outputs": [
    {
     "data": {
      "text/plain": [
       "Make             object\n",
       "Colour           object\n",
       "Doors            object\n",
       "Odometer (KM)    object\n",
       "dtype: object"
      ]
     },
     "execution_count": 40,
     "metadata": {},
     "output_type": "execute_result"
    }
   ],
   "source": [
    "# Verificare tipurilor de date in fiecare coloana a setului de test\n",
    "X_test.dtypes"
   ]
  },
  {
   "cell_type": "code",
   "execution_count": 41,
   "id": "0143bb42",
   "metadata": {},
   "outputs": [
    {
     "data": {
      "text/plain": [
       "dtype('float64')"
      ]
     },
     "execution_count": 41,
     "metadata": {},
     "output_type": "execute_result"
    }
   ],
   "source": [
    "# Verificare tipurilor de date in setul label de training\n",
    "y_train.dtypes"
   ]
  },
  {
   "cell_type": "code",
   "execution_count": 42,
   "id": "0a1ce588",
   "metadata": {},
   "outputs": [
    {
     "data": {
      "text/plain": [
       "dtype('float64')"
      ]
     },
     "execution_count": 42,
     "metadata": {},
     "output_type": "execute_result"
    }
   ],
   "source": [
    "# Verificare tipurilor de date in setul label de test\n",
    "y_test.dtypes"
   ]
  },
  {
   "cell_type": "code",
   "execution_count": 43,
   "id": "a4f0b0bc",
   "metadata": {},
   "outputs": [],
   "source": [
    "# Conversia tipurilor de date din coloanele numerice in tip corespunzator in setul de training\n",
    "X_train[\"Odometer (KM)\"] = X_train[\"Odometer (KM)\"].astype(float)\n",
    "X_train[\"Doors\"] = X_train[\"Doors\"].astype(int)"
   ]
  },
  {
   "cell_type": "code",
   "execution_count": 44,
   "id": "fad0560e",
   "metadata": {},
   "outputs": [
    {
     "data": {
      "text/plain": [
       "Make              object\n",
       "Colour            object\n",
       "Doors              int32\n",
       "Odometer (KM)    float64\n",
       "dtype: object"
      ]
     },
     "execution_count": 44,
     "metadata": {},
     "output_type": "execute_result"
    }
   ],
   "source": [
    "# Verificare tipurilor de date in fiecare coloana a setului de training\n",
    "X_train.dtypes"
   ]
  },
  {
   "cell_type": "code",
   "execution_count": 45,
   "id": "e8f3a36f",
   "metadata": {},
   "outputs": [],
   "source": [
    "# Conversia tipurilor de date din coloanele numerice in tip corespunzator in setul de test\n",
    "X_test[\"Odometer (KM)\"] = X_test[\"Odometer (KM)\"].astype(float)\n",
    "X_test[\"Doors\"] = X_test[\"Doors\"].astype(int)"
   ]
  },
  {
   "cell_type": "code",
   "execution_count": 46,
   "id": "cebdaabc",
   "metadata": {},
   "outputs": [
    {
     "data": {
      "text/plain": [
       "Make              object\n",
       "Colour            object\n",
       "Doors              int32\n",
       "Odometer (KM)    float64\n",
       "dtype: object"
      ]
     },
     "execution_count": 46,
     "metadata": {},
     "output_type": "execute_result"
    }
   ],
   "source": [
    "# Verificare tipurilor de date in fiecare coloana a setului de test\n",
    "X_test.dtypes"
   ]
  },
  {
   "cell_type": "code",
   "execution_count": 47,
   "id": "c8ee96c7",
   "metadata": {},
   "outputs": [],
   "source": [
    "# importul functiilor necesare pentru conversia datelor de tip categorie in tip numeric\n",
    "from sklearn.preprocessing import OneHotEncoder\n",
    "from sklearn.compose import ColumnTransformer"
   ]
  },
  {
   "cell_type": "code",
   "execution_count": 48,
   "id": "3a63c989",
   "metadata": {},
   "outputs": [],
   "source": [
    "# definirea coloanelor de tipul categorie (inclusiv cele de tip categorie cu valori numerice)\n",
    "categorical_features = [\"Make\", \"Colour\", \"Doors\"]"
   ]
  },
  {
   "cell_type": "code",
   "execution_count": 49,
   "id": "a96bab49",
   "metadata": {},
   "outputs": [],
   "source": [
    "# instantierea unui codor ce ar realiza conversia datelor de tip categorie in date de tip numeric\n",
    "one_hot = OneHotEncoder()"
   ]
  },
  {
   "cell_type": "code",
   "execution_count": 50,
   "id": "9bc2c8f7",
   "metadata": {},
   "outputs": [],
   "source": [
    "# aplicarea codorului asupra coloanelor de tip categorie si neglijarea celorlalte\n",
    "transformer = ColumnTransformer([(\"one_hot\", \n",
    "                                  one_hot, \n",
    "                                  categorical_features)],\n",
    "                                  remainder=\"passthrough\")"
   ]
  },
  {
   "cell_type": "code",
   "execution_count": 51,
   "id": "efc48e1a",
   "metadata": {},
   "outputs": [
    {
     "data": {
      "text/plain": [
       "<760x15 sparse matrix of type '<class 'numpy.float64'>'\n",
       "\twith 3040 stored elements in Compressed Sparse Row format>"
      ]
     },
     "execution_count": 51,
     "metadata": {},
     "output_type": "execute_result"
    }
   ],
   "source": [
    "# implementarea conversiei in setul de training\n",
    "X_train = transformer.fit_transform(X_train)\n",
    "X_train"
   ]
  },
  {
   "cell_type": "code",
   "execution_count": 52,
   "id": "dcae8114",
   "metadata": {},
   "outputs": [
    {
     "data": {
      "text/plain": [
       "<190x15 sparse matrix of type '<class 'numpy.float64'>'\n",
       "\twith 760 stored elements in Compressed Sparse Row format>"
      ]
     },
     "execution_count": 52,
     "metadata": {},
     "output_type": "execute_result"
    }
   ],
   "source": [
    "# implementarea conversiei in setul de test\n",
    "X_test = transformer.fit_transform(X_test)\n",
    "X_test"
   ]
  },
  {
   "cell_type": "markdown",
   "id": "cf9a4b14",
   "metadata": {},
   "source": [
    "# 5. Implementarea modelului si realizarea predictiei"
   ]
  },
  {
   "cell_type": "code",
   "execution_count": 53,
   "id": "fde1f508",
   "metadata": {},
   "outputs": [
    {
     "data": {
      "text/plain": [
       "0.35336079981377755"
      ]
     },
     "execution_count": 53,
     "metadata": {},
     "output_type": "execute_result"
    }
   ],
   "source": [
    "from sklearn.ensemble import RandomForestRegressor\n",
    "np.random.seed(9)\n",
    "model = RandomForestRegressor()\n",
    "model.fit(X_train, y_train)\n",
    "model.score(X_test, y_test)"
   ]
  },
  {
   "cell_type": "code",
   "execution_count": null,
   "id": "14354fd4",
   "metadata": {},
   "outputs": [],
   "source": []
  }
 ],
 "metadata": {
  "kernelspec": {
   "display_name": "Python 3",
   "language": "python",
   "name": "python3"
  },
  "language_info": {
   "codemirror_mode": {
    "name": "ipython",
    "version": 3
   },
   "file_extension": ".py",
   "mimetype": "text/x-python",
   "name": "python",
   "nbconvert_exporter": "python",
   "pygments_lexer": "ipython3",
   "version": "3.9.4"
  }
 },
 "nbformat": 4,
 "nbformat_minor": 5
}
